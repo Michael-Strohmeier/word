{
  "nbformat": 4,
  "nbformat_minor": 0,
  "metadata": {
    "colab": {
      "name": "wordnet_sim_cat.ipynb",
      "provenance": []
    },
    "kernelspec": {
      "name": "python3",
      "display_name": "Python 3"
    },
    "language_info": {
      "name": "python"
    }
  },
  "cells": [
    {
      "cell_type": "code",
      "metadata": {
        "colab": {
          "base_uri": "https://localhost:8080/"
        },
        "id": "42wu57iVKKeA",
        "outputId": "ba71a2ba-9a4c-4727-a8bd-f071423b7501"
      },
      "source": [
        "# http://www.nltk.org/howto/wordnet.html\n",
        "\n",
        "import nltk\n",
        "nltk.download('wordnet')\n",
        "\n",
        "from nltk.corpus import wordnet as wn"
      ],
      "execution_count": 1,
      "outputs": [
        {
          "output_type": "stream",
          "text": [
            "[nltk_data] Downloading package wordnet to /root/nltk_data...\n",
            "[nltk_data]   Unzipping corpora/wordnet.zip.\n"
          ],
          "name": "stdout"
        }
      ]
    },
    {
      "cell_type": "code",
      "metadata": {
        "id": "CweI-NZ3KLrW"
      },
      "source": [
        "def sim(w1, w2):\n",
        "  ret = 0\n",
        "  for a in wn.synsets(w1):\n",
        "    for b in wn.synsets(w2):\n",
        "      val = a.wup_similarity(b)\n",
        "      if val != None:\n",
        "        ret = max(ret, val)\n",
        "\n",
        "  return ret\n",
        "\n",
        "def categories(word, ret_synset=False):\n",
        "  temp = []\n",
        "  for w in wn.synsets(word):\n",
        "    for h in w.hypernyms():\n",
        "      if ret_synset:\n",
        "        temp.append(h.name())\n",
        "      else:\n",
        "        temp.append(h.name().split(\".\")[0])\n",
        "\n",
        "  return temp\n"
      ],
      "execution_count": 2,
      "outputs": []
    },
    {
      "cell_type": "code",
      "metadata": {
        "colab": {
          "base_uri": "https://localhost:8080/"
        },
        "id": "57BStTjUKbo5",
        "outputId": "9ffa3d15-6b49-4a9b-887a-4262931d635e"
      },
      "source": [
        "sim(\"cat\", \"dog\")"
      ],
      "execution_count": 3,
      "outputs": [
        {
          "output_type": "execute_result",
          "data": {
            "text/plain": [
              "0.8571428571428571"
            ]
          },
          "metadata": {
            "tags": []
          },
          "execution_count": 3
        }
      ]
    },
    {
      "cell_type": "code",
      "metadata": {
        "colab": {
          "base_uri": "https://localhost:8080/"
        },
        "id": "rGALk-f6KfeR",
        "outputId": "3ad30a73-46f1-49bc-fded-3eb31150162f"
      },
      "source": [
        "word = \"dog\"\n",
        "categories(word)"
      ],
      "execution_count": 4,
      "outputs": [
        {
          "output_type": "execute_result",
          "data": {
            "text/plain": [
              "['canine',\n",
              " 'domestic_animal',\n",
              " 'unpleasant_woman',\n",
              " 'chap',\n",
              " 'villain',\n",
              " 'sausage',\n",
              " 'catch',\n",
              " 'support',\n",
              " 'pursue']"
            ]
          },
          "metadata": {
            "tags": []
          },
          "execution_count": 4
        }
      ]
    }
  ]
}