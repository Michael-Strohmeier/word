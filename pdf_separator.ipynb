{
  "nbformat": 4,
  "nbformat_minor": 0,
  "metadata": {
    "colab": {
      "name": "pdf separator.ipynb",
      "provenance": []
    },
    "kernelspec": {
      "name": "python3",
      "display_name": "Python 3"
    },
    "language_info": {
      "name": "python"
    }
  },
  "cells": [
    {
      "cell_type": "code",
      "metadata": {
        "colab": {
          "base_uri": "https://localhost:8080/"
        },
        "id": "R9Q1vLVblHIa",
        "outputId": "8418a3e7-01b9-42e0-a05c-3244a91ce084"
      },
      "source": [
        "!apt-get install poppler-utils\n",
        "!pip install pdf2image"
      ],
      "execution_count": null,
      "outputs": [
        {
          "output_type": "stream",
          "text": [
            "Reading package lists... Done\n",
            "Building dependency tree       \n",
            "Reading state information... Done\n",
            "The following package was automatically installed and is no longer required:\n",
            "  libnvidia-common-460\n",
            "Use 'apt autoremove' to remove it.\n",
            "The following NEW packages will be installed:\n",
            "  poppler-utils\n",
            "0 upgraded, 1 newly installed, 0 to remove and 34 not upgraded.\n",
            "Need to get 154 kB of archives.\n",
            "After this operation, 613 kB of additional disk space will be used.\n",
            "Get:1 http://archive.ubuntu.com/ubuntu bionic-updates/main amd64 poppler-utils amd64 0.62.0-2ubuntu2.12 [154 kB]\n",
            "Fetched 154 kB in 1s (238 kB/s)\n",
            "Selecting previously unselected package poppler-utils.\n",
            "(Reading database ... 160706 files and directories currently installed.)\n",
            "Preparing to unpack .../poppler-utils_0.62.0-2ubuntu2.12_amd64.deb ...\n",
            "Unpacking poppler-utils (0.62.0-2ubuntu2.12) ...\n",
            "Setting up poppler-utils (0.62.0-2ubuntu2.12) ...\n",
            "Processing triggers for man-db (2.8.3-2ubuntu0.1) ...\n",
            "Collecting pdf2image\n",
            "  Downloading https://files.pythonhosted.org/packages/7a/17/debc231f9bdb499e93389bb8679c7091ee9e4993dd92ed2da18aa896e2b6/pdf2image-1.15.1-py3-none-any.whl\n",
            "Requirement already satisfied: pillow in /usr/local/lib/python3.7/dist-packages (from pdf2image) (7.1.2)\n",
            "Installing collected packages: pdf2image\n",
            "Successfully installed pdf2image-1.15.1\n"
          ],
          "name": "stdout"
        }
      ]
    },
    {
      "cell_type": "code",
      "metadata": {
        "id": "h_U-TqwlnO3e"
      },
      "source": [
        "from pdf2image import convert_from_path, convert_from_bytes\n",
        "import shutil\n",
        "import os"
      ],
      "execution_count": null,
      "outputs": []
    },
    {
      "cell_type": "code",
      "metadata": {
        "id": "Z_vkSLH7nWPs"
      },
      "source": [
        "path = \"/content/card-category-a6-b-verb.pdf\"\n",
        "# path = \"/content/card-category-a6-b-adjective.pdf\"\n",
        "images = convert_from_path(path)"
      ],
      "execution_count": null,
      "outputs": []
    },
    {
      "cell_type": "code",
      "metadata": {
        "id": "28PKMxm2qHzt"
      },
      "source": [
        "img = images[0]\n",
        "\n",
        "top_left_area = (75, 240, 820, 240 + 760)\n",
        "top_right_area = (75 + 755, 240, 820 + 755, 240 + 760)\n",
        "bottom_left_area = (75, 1260, 820, 1260 + 760)\n",
        "bottom_right_area = (75 + 755, 1260, 820 + 755, 1260 + 760)\n",
        "\n",
        "cropped_img = img.crop(top_left_area)\n",
        "cropped_img\n",
        "\n",
        "#.save(\"geeks.jpg\")"
      ],
      "execution_count": null,
      "outputs": []
    },
    {
      "cell_type": "code",
      "metadata": {
        "id": "EMJ0wNQwD_Ng"
      },
      "source": [
        "\n",
        "\n",
        "directory = \"adjectives or whatever\"\n",
        "parent_dir = \"content\" # i think\n",
        "  \n",
        "path = os.path.join(parent_dir, directory)\n",
        "\n",
        "\n",
        "\n",
        "\n",
        "# to remove\n"
      ],
      "execution_count": null,
      "outputs": []
    },
    {
      "cell_type": "code",
      "metadata": {
        "id": "wl2uA7oxD_QJ"
      },
      "source": [
        ""
      ],
      "execution_count": null,
      "outputs": []
    },
    {
      "cell_type": "code",
      "metadata": {
        "id": "jJZXHCVQD_S5"
      },
      "source": [
        "s = \"\"\"\n",
        "adjective\n",
        "animal\n",
        "body\n",
        "feeling\n",
        "mimeticword\n",
        "mimeticword-2\n",
        "place\n",
        "shape\n",
        "tool\n",
        "transport\n",
        "underwater\n",
        "vegetable\n",
        "verb\n",
        "\"\"\"\n",
        "\n",
        "s = s.split()"
      ],
      "execution_count": null,
      "outputs": []
    },
    {
      "cell_type": "code",
      "metadata": {
        "colab": {
          "base_uri": "https://localhost:8080/",
          "height": 35
        },
        "id": "3egbIz7y2sZd",
        "outputId": "bc6ddfee-d0e5-409a-a058-0d94455ed354"
      },
      "source": [
        "sheet_name = s[12]\n",
        "\n",
        "path = \"/content/\" + sheet_name + \".pdf\"\n",
        "\n",
        "dest_path = \"/content/\" + sheet_name + \"/\"\n",
        "os.mkdir(dest_path)\n",
        "\n",
        "images = convert_from_path(path)\n",
        "for i, image in enumerate(images):\n",
        "  top_left_area = (75 + 3, 240, 820, 240 + 760 - 15)\n",
        "  image.crop(top_left_area).save(f\"{dest_path}{i}_top_left.jpg\")\n",
        "\n",
        "  top_right_area = (75 + 755 + 3, 240, 820 + 755, 240 + 760 - 15)\n",
        "  image.crop(top_right_area).save(f\"{dest_path}{i}_top_right.jpg\")\n",
        "\n",
        "  bottom_left_area = (75 + 3, 1260, 820, 1260 + 760 - 15)\n",
        "  image.crop(bottom_left_area).save(f\"{dest_path}{i}_bottom_left.jpg\")\n",
        "\n",
        "  bottom_right_area = (75 + 755 + 3, 1260, 820 + 755, 1260 + 760 - 15)\n",
        "  image.crop(bottom_right_area).save(f\"{dest_path}{i}_bottom_right.jpg\")\n",
        "\n",
        "shutil.make_archive(sheet_name, 'zip', dest_path)"
      ],
      "execution_count": null,
      "outputs": [
        {
          "output_type": "execute_result",
          "data": {
            "application/vnd.google.colaboratory.intrinsic+json": {
              "type": "string"
            },
            "text/plain": [
              "'/content/verb.zip'"
            ]
          },
          "metadata": {
            "tags": []
          },
          "execution_count": 127
        }
      ]
    },
    {
      "cell_type": "code",
      "metadata": {
        "id": "WNJiKHuuUAwR"
      },
      "source": [
        ""
      ],
      "execution_count": null,
      "outputs": []
    },
    {
      "cell_type": "code",
      "metadata": {
        "colab": {
          "base_uri": "https://localhost:8080/",
          "height": 69
        },
        "id": "XPCk8TxHrmgf",
        "outputId": "360b938d-87f3-41ea-e1c9-6411d95b2b4a"
      },
      "source": [
        "s = \"\"\"Non-past\t流れる\t流れない\n",
        "Non-past, polite\t流れます\t流れません\n",
        "Past\t流れた\t流れなかった\n",
        "Past, polite\t流れました\t流れませんでした\n",
        "Te-form\t流れて\t流れなくて\n",
        "Potential\t流れられる\t流れられない\n",
        "Passive\t流れられる\t流れられない\n",
        "Causative\t流れさせる\t流れさせない\n",
        "Causative Passive\t流れさせられる\t流れさせられない\n",
        "Imperative\t流れろ\t流れるな\"\"\"\n",
        "\n",
        "cats = [c.split(\"\\t\")[0] for c in s.split(\"\\n\")]\n",
        "cats\n",
        "\n",
        "temp = []\n",
        "for i, cat in enumerate(cats):\n",
        "  pos = s.split(\"\\n\")[i].split(\"\\t\")[1]\n",
        "  neg = s.split(\"\\n\")[i].split(\"\\t\")[2]\n",
        "  temp.append([cats[i], pos])\n",
        "  temp.append([cats[i] + \" negative\", neg])\n",
        "\n",
        "df = pd.DataFrame(temp).swapaxes(\"index\", \"columns\").iloc[1]\n",
        "s = \"\"\n",
        "for w in df:\n",
        "  s += w + \"\\t\"\n",
        "\n",
        "s"
      ],
      "execution_count": null,
      "outputs": [
        {
          "output_type": "execute_result",
          "data": {
            "application/vnd.google.colaboratory.intrinsic+json": {
              "type": "string"
            },
            "text/plain": [
              "'流れる\\t流れない\\t流れます\\t流れません\\t流れた\\t流れなかった\\t流れました\\t流れませんでした\\t流れて\\t流れなくて\\t流れられる\\t流れられない\\t流れられる\\t流れられない\\t流れさせる\\t流れさせない\\t流れさせられる\\t流れさせられない\\t流れろ\\t流れるな\\t'"
            ]
          },
          "metadata": {
            "tags": []
          },
          "execution_count": 67
        }
      ]
    },
    {
      "cell_type": "code",
      "metadata": {
        "colab": {
          "base_uri": "https://localhost:8080/",
          "height": 216
        },
        "id": "ttjzWf2xr701",
        "outputId": "5f7dc252-cb1a-47b8-dfe4-f0d9d66ba79e"
      },
      "source": [
        "import pandas as pd\n",
        "\n"
      ],
      "execution_count": null,
      "outputs": [
        {
          "output_type": "execute_result",
          "data": {
            "text/html": [
              "<div>\n",
              "<style scoped>\n",
              "    .dataframe tbody tr th:only-of-type {\n",
              "        vertical-align: middle;\n",
              "    }\n",
              "\n",
              "    .dataframe tbody tr th {\n",
              "        vertical-align: top;\n",
              "    }\n",
              "\n",
              "    .dataframe thead th {\n",
              "        text-align: right;\n",
              "    }\n",
              "</style>\n",
              "<table border=\"1\" class=\"dataframe\">\n",
              "  <thead>\n",
              "    <tr style=\"text-align: right;\">\n",
              "      <th></th>\n",
              "      <th>0</th>\n",
              "      <th>1</th>\n",
              "      <th>2</th>\n",
              "      <th>3</th>\n",
              "      <th>4</th>\n",
              "      <th>5</th>\n",
              "      <th>6</th>\n",
              "      <th>7</th>\n",
              "      <th>8</th>\n",
              "      <th>9</th>\n",
              "      <th>10</th>\n",
              "      <th>11</th>\n",
              "      <th>12</th>\n",
              "      <th>13</th>\n",
              "      <th>14</th>\n",
              "      <th>15</th>\n",
              "      <th>16</th>\n",
              "      <th>17</th>\n",
              "      <th>18</th>\n",
              "      <th>19</th>\n",
              "    </tr>\n",
              "  </thead>\n",
              "  <tbody>\n",
              "    <tr>\n",
              "      <th>0</th>\n",
              "      <td>Non-past</td>\n",
              "      <td>Non-past negative</td>\n",
              "      <td>Non-past, polite</td>\n",
              "      <td>Non-past, polite negative</td>\n",
              "      <td>Past</td>\n",
              "      <td>Past negative</td>\n",
              "      <td>Past, polite</td>\n",
              "      <td>Past, polite negative</td>\n",
              "      <td>Te-form</td>\n",
              "      <td>Te-form negative</td>\n",
              "      <td>Potential</td>\n",
              "      <td>Potential negative</td>\n",
              "      <td>Passive</td>\n",
              "      <td>Passive negative</td>\n",
              "      <td>Causative</td>\n",
              "      <td>Causative negative</td>\n",
              "      <td>Causative Passive</td>\n",
              "      <td>Causative Passive negative</td>\n",
              "      <td>Imperative</td>\n",
              "      <td>Imperative negative</td>\n",
              "    </tr>\n",
              "    <tr>\n",
              "      <th>1</th>\n",
              "      <td>聞く</td>\n",
              "      <td>聞かない</td>\n",
              "      <td>聞きます</td>\n",
              "      <td>聞きません</td>\n",
              "      <td>聞いた</td>\n",
              "      <td>聞かなかった</td>\n",
              "      <td>聞きました</td>\n",
              "      <td>聞きませんでした</td>\n",
              "      <td>聞いて</td>\n",
              "      <td>聞かなくて</td>\n",
              "      <td>聞ける</td>\n",
              "      <td>聞けない</td>\n",
              "      <td>聞かれる</td>\n",
              "      <td>聞かれない</td>\n",
              "      <td>聞かせる</td>\n",
              "      <td>聞かせない</td>\n",
              "      <td>聞かせられる</td>\n",
              "      <td>聞かせられない</td>\n",
              "      <td>聞け</td>\n",
              "      <td>聞くな</td>\n",
              "    </tr>\n",
              "  </tbody>\n",
              "</table>\n",
              "</div>"
            ],
            "text/plain": [
              "         0                  1   ...          18                   19\n",
              "0  Non-past  Non-past negative  ...  Imperative  Imperative negative\n",
              "1        聞く               聞かない  ...          聞け                  聞くな\n",
              "\n",
              "[2 rows x 20 columns]"
            ]
          },
          "metadata": {
            "tags": []
          },
          "execution_count": 15
        }
      ]
    },
    {
      "cell_type": "code",
      "metadata": {
        "id": "rgwNR8Lbtn8e"
      },
      "source": [
        "s = \"\"\"to talk; to speak; to converse; to chat\n",
        "to hear\n",
        "\n",
        "to hear\n",
        "to shout; to cry; to scream; to shriek; to yell; to exclaim\n",
        "to make sound (of an animal); to call; to cry; to whine; to sing; to chirp\n",
        "\n",
        "to eat\n",
        "to drink; to gulp; to swallow; to take (medicine)\n",
        "\n",
        "to laugh\n",
        "to get angry; to get mad\n",
        "\n",
        "to sit; to squat\n",
        "to stand; to rise; to stand up\n",
        "\n",
        "to get angry; to get mad\n",
        "to apologize; to apologise\n",
        "\n",
        "to read\n",
        "to write; to compose; to pen\n",
        "\n",
        "to wait\n",
        "to go; to move (in a direction or towards a specific location); to head (towards); to be transported (towards); to reach\n",
        "\n",
        "to walk\n",
        "to run\n",
        "to fly; to soar​\n",
        "\n",
        "to sleep (lying down)​\n",
        "to work; to labor; to labour\n",
        "\n",
        "to enter; to go into​\n",
        "to leave; to exit; to go out; to come out; to get out​\n",
        "\n",
        "to make; to produce; to manufacture; to build; to construct\n",
        "to break; to destroy; to demolish\n",
        "\n",
        "to make; to produce; to manufacture; to build; to construct\n",
        "to work; to labor; to labour\n",
        "\n",
        "to see; to look; to watch; to view; to observe\n",
        "to search for; to look for; to hunt for; to seek\n",
        "\n",
        "to go; to move (in a direction or towards a specific location); to head (towards); to be transported (towards); to reach\n",
        "to return; to come home; to go home; to go back​\n",
        "to come (spatially or temporally); to approach; to arrive\n",
        "\n",
        "to raise; to elevate\n",
        "to pile up; to stack\n",
        "\n",
        "to put; to place\n",
        "to pile up; to stack\n",
        "\n",
        "to put; to place\n",
        "to hand over; to hand in; to pass; to give; to transfer\n",
        "\n",
        "to invite; to ask (someone to do); to call (for); to take (someone) along\n",
        "to meet; to encounter; to see​\n",
        "\n",
        "to wait\n",
        "to meet; to encounter; to see​\"\"\""
      ],
      "execution_count": null,
      "outputs": []
    },
    {
      "cell_type": "code",
      "metadata": {
        "colab": {
          "base_uri": "https://localhost:8080/"
        },
        "id": "6K1iRKr6MDPD",
        "outputId": "deda1390-233e-467c-be21-5446804434cb"
      },
      "source": [
        "len(set(ｓ.split(\"\\n\")))"
      ],
      "execution_count": null,
      "outputs": [
        {
          "output_type": "execute_result",
          "data": {
            "text/plain": [
              "35"
            ]
          },
          "metadata": {
            "tags": []
          },
          "execution_count": 161
        }
      ]
    },
    {
      "cell_type": "code",
      "metadata": {
        "id": "yWwPTliiME0S"
      },
      "source": [
        "import pandas as pd\n",
        "\n",
        "df = pd.read_csv(\"/content/Japanese Flashcards - verb (1).csv\")"
      ],
      "execution_count": null,
      "outputs": []
    },
    {
      "cell_type": "code",
      "metadata": {
        "colab": {
          "base_uri": "https://localhost:8080/"
        },
        "id": "t1NoordDCZ2l",
        "outputId": "24908836-56b7-45ac-cbff-86070163d1f8"
      },
      "source": [
        "s = s.split(\"\\n\")\n",
        "\n",
        "temp = []\n",
        "for line in s:\n",
        "  for i in range(len(df[\"english\"])):\n",
        "    if line == df[\"english\"].loc[i]:\n",
        "      temp.append(i)\n",
        "    elif line == \"\":\n",
        "      temp.append(\" \")\n",
        "      break\n",
        "\n",
        "temp"
      ],
      "execution_count": null,
      "outputs": [
        {
          "output_type": "execute_result",
          "data": {
            "text/plain": [
              "[8,\n",
              " 1,\n",
              " ' ',\n",
              " 1,\n",
              " 13,\n",
              " 16,\n",
              " ' ',\n",
              " 4,\n",
              " 5,\n",
              " ' ',\n",
              " 9,\n",
              " 12,\n",
              " ' ',\n",
              " 3,\n",
              " 2,\n",
              " ' ',\n",
              " 12,\n",
              " 17,\n",
              " ' ',\n",
              " 6,\n",
              " 7,\n",
              " ' ',\n",
              " 15,\n",
              " 11,\n",
              " ' ',\n",
              " 21,\n",
              " 24,\n",
              " 29,\n",
              " ' ',\n",
              " 20,\n",
              " 31,\n",
              " ' ',\n",
              " 37,\n",
              " 36,\n",
              " ' ',\n",
              " 22,\n",
              " 23,\n",
              " ' ',\n",
              " 22,\n",
              " 31,\n",
              " ' ',\n",
              " 0,\n",
              " 35,\n",
              " ' ',\n",
              " 11,\n",
              " 19,\n",
              " 14,\n",
              " ' ',\n",
              " 25,\n",
              " 30,\n",
              " ' ',\n",
              " 27,\n",
              " 30,\n",
              " ' ',\n",
              " 27,\n",
              " 26,\n",
              " ' ',\n",
              " 34,\n",
              " 18,\n",
              " ' ',\n",
              " 15,\n",
              " 18]"
            ]
          },
          "metadata": {
            "tags": []
          },
          "execution_count": 163
        }
      ]
    },
    {
      "cell_type": "code",
      "metadata": {
        "id": "vU0eoTQ2DT3s"
      },
      "source": [
        "\n",
        "def html_create_figure(path, hiragana, kanji):\n",
        "  figure = \"\"\"  <figure>\n",
        "      <img src=\"path/kanji.jpg\" alt=\"Avatar\" style=\"width:200px\">\n",
        "      <figcaption class=\"spoiler\">\n",
        "        hiragana　\n",
        "      </figcaption>\n",
        "\n",
        "      <figcaption class=\"spoiler\">\n",
        "        kanji\n",
        "      </figcaption>\n",
        "  </figure>\\n\"\"\"\n",
        "\n",
        "  figure = figure.replace(\"path\", path)\n",
        "  figure = figure.replace(\"hiragana\", hiragana)\n",
        "  figure = figure.replace(\"kanji\", kanji)\n",
        "\n",
        "  return figure"
      ],
      "execution_count": null,
      "outputs": []
    },
    {
      "cell_type": "code",
      "metadata": {
        "colab": {
          "base_uri": "https://localhost:8080/"
        },
        "id": "tCUypDKmY_Fm",
        "outputId": "c6f45ac3-e148-4558-9e90-519fa19ac4b3"
      },
      "source": [
        "print(html_create_figure(\"pa\", \"f\", \"d\"))"
      ],
      "execution_count": null,
      "outputs": [
        {
          "output_type": "stream",
          "text": [
            "  <figure>\n",
            "      <img src=\"pa/d.jpg\" alt=\"Avatar\" style=\"width:200px\">\n",
            "      <figcaption class=\"spoiler\">\n",
            "        f　\n",
            "      </figcaption>\n",
            "\n",
            "      <figcaption class=\"spoiler\">\n",
            "        d\n",
            "      </figcaption>\n",
            "  </figure>\n",
            "\n"
          ],
          "name": "stdout"
        }
      ]
    },
    {
      "cell_type": "code",
      "metadata": {
        "id": "SpBzlJlPY_gV"
      },
      "source": [
        "s = \"<div class=\\\"crop\\\">\\n\"\n",
        "for i, t in enumerate(temp):\n",
        "  if t == \" \":\n",
        "    s += \"</div>\\n\\n<div class=\\\"crop\\\">\\n\"\n",
        "  else:\n",
        "    s += html_create_figure(\"verb\", df[\"kana\"].loc[t], df[\"Non-past\"].loc[t])\n",
        "  \n",
        "s += \"</div>\""
      ],
      "execution_count": null,
      "outputs": []
    },
    {
      "cell_type": "code",
      "metadata": {
        "colab": {
          "base_uri": "https://localhost:8080/"
        },
        "id": "9K7Wdo4Ea5qn",
        "outputId": "409f304a-92f7-44aa-8463-a43749c42cfa"
      },
      "source": [
        "print(s)"
      ],
      "execution_count": null,
      "outputs": [
        {
          "output_type": "stream",
          "text": [
            "<div class=\"crop\">\n",
            "  <figure>\n",
            "      <img src=\"verb/話す.jpg\" alt=\"Avatar\" style=\"width:200px\">\n",
            "      <figcaption class=\"spoiler\">\n",
            "        はなす　\n",
            "      </figcaption>\n",
            "\n",
            "      <figcaption class=\"spoiler\">\n",
            "        話す\n",
            "      </figcaption>\n",
            "  </figure>\n",
            "  <figure>\n",
            "      <img src=\"verb/聞く.jpg\" alt=\"Avatar\" style=\"width:200px\">\n",
            "      <figcaption class=\"spoiler\">\n",
            "        きく　\n",
            "      </figcaption>\n",
            "\n",
            "      <figcaption class=\"spoiler\">\n",
            "        聞く\n",
            "      </figcaption>\n",
            "  </figure>\n",
            "</div>\n",
            "\n",
            "<div class=\"crop\">\n",
            "  <figure>\n",
            "      <img src=\"verb/聞く.jpg\" alt=\"Avatar\" style=\"width:200px\">\n",
            "      <figcaption class=\"spoiler\">\n",
            "        きく　\n",
            "      </figcaption>\n",
            "\n",
            "      <figcaption class=\"spoiler\">\n",
            "        聞く\n",
            "      </figcaption>\n",
            "  </figure>\n",
            "  <figure>\n",
            "      <img src=\"verb/叫ぶ.jpg\" alt=\"Avatar\" style=\"width:200px\">\n",
            "      <figcaption class=\"spoiler\">\n",
            "        さけぶ　\n",
            "      </figcaption>\n",
            "\n",
            "      <figcaption class=\"spoiler\">\n",
            "        叫ぶ\n",
            "      </figcaption>\n",
            "  </figure>\n",
            "  <figure>\n",
            "      <img src=\"verb/鳴く.jpg\" alt=\"Avatar\" style=\"width:200px\">\n",
            "      <figcaption class=\"spoiler\">\n",
            "        なく　\n",
            "      </figcaption>\n",
            "\n",
            "      <figcaption class=\"spoiler\">\n",
            "        鳴く\n",
            "      </figcaption>\n",
            "  </figure>\n",
            "</div>\n",
            "\n",
            "<div class=\"crop\">\n",
            "  <figure>\n",
            "      <img src=\"verb/食べる.jpg\" alt=\"Avatar\" style=\"width:200px\">\n",
            "      <figcaption class=\"spoiler\">\n",
            "        たべる　\n",
            "      </figcaption>\n",
            "\n",
            "      <figcaption class=\"spoiler\">\n",
            "        食べる\n",
            "      </figcaption>\n",
            "  </figure>\n",
            "  <figure>\n",
            "      <img src=\"verb/飲む.jpg\" alt=\"Avatar\" style=\"width:200px\">\n",
            "      <figcaption class=\"spoiler\">\n",
            "        のむ　\n",
            "      </figcaption>\n",
            "\n",
            "      <figcaption class=\"spoiler\">\n",
            "        飲む\n",
            "      </figcaption>\n",
            "  </figure>\n",
            "</div>\n",
            "\n",
            "<div class=\"crop\">\n",
            "  <figure>\n",
            "      <img src=\"verb/笑う.jpg\" alt=\"Avatar\" style=\"width:200px\">\n",
            "      <figcaption class=\"spoiler\">\n",
            "        わらう　\n",
            "      </figcaption>\n",
            "\n",
            "      <figcaption class=\"spoiler\">\n",
            "        笑う\n",
            "      </figcaption>\n",
            "  </figure>\n",
            "  <figure>\n",
            "      <img src=\"verb/怒る.jpg\" alt=\"Avatar\" style=\"width:200px\">\n",
            "      <figcaption class=\"spoiler\">\n",
            "        おこる　\n",
            "      </figcaption>\n",
            "\n",
            "      <figcaption class=\"spoiler\">\n",
            "        怒る\n",
            "      </figcaption>\n",
            "  </figure>\n",
            "</div>\n",
            "\n",
            "<div class=\"crop\">\n",
            "  <figure>\n",
            "      <img src=\"verb/座る.jpg\" alt=\"Avatar\" style=\"width:200px\">\n",
            "      <figcaption class=\"spoiler\">\n",
            "        すわる　\n",
            "      </figcaption>\n",
            "\n",
            "      <figcaption class=\"spoiler\">\n",
            "        座る\n",
            "      </figcaption>\n",
            "  </figure>\n",
            "  <figure>\n",
            "      <img src=\"verb/立つ.jpg\" alt=\"Avatar\" style=\"width:200px\">\n",
            "      <figcaption class=\"spoiler\">\n",
            "        たつ　\n",
            "      </figcaption>\n",
            "\n",
            "      <figcaption class=\"spoiler\">\n",
            "        立つ\n",
            "      </figcaption>\n",
            "  </figure>\n",
            "</div>\n",
            "\n",
            "<div class=\"crop\">\n",
            "  <figure>\n",
            "      <img src=\"verb/怒る.jpg\" alt=\"Avatar\" style=\"width:200px\">\n",
            "      <figcaption class=\"spoiler\">\n",
            "        おこる　\n",
            "      </figcaption>\n",
            "\n",
            "      <figcaption class=\"spoiler\">\n",
            "        怒る\n",
            "      </figcaption>\n",
            "  </figure>\n",
            "  <figure>\n",
            "      <img src=\"verb/謝る.jpg\" alt=\"Avatar\" style=\"width:200px\">\n",
            "      <figcaption class=\"spoiler\">\n",
            "        あやまる　\n",
            "      </figcaption>\n",
            "\n",
            "      <figcaption class=\"spoiler\">\n",
            "        謝る\n",
            "      </figcaption>\n",
            "  </figure>\n",
            "</div>\n",
            "\n",
            "<div class=\"crop\">\n",
            "  <figure>\n",
            "      <img src=\"verb/読む.jpg\" alt=\"Avatar\" style=\"width:200px\">\n",
            "      <figcaption class=\"spoiler\">\n",
            "        よむ　\n",
            "      </figcaption>\n",
            "\n",
            "      <figcaption class=\"spoiler\">\n",
            "        読む\n",
            "      </figcaption>\n",
            "  </figure>\n",
            "  <figure>\n",
            "      <img src=\"verb/書く.jpg\" alt=\"Avatar\" style=\"width:200px\">\n",
            "      <figcaption class=\"spoiler\">\n",
            "        かく　\n",
            "      </figcaption>\n",
            "\n",
            "      <figcaption class=\"spoiler\">\n",
            "        書く\n",
            "      </figcaption>\n",
            "  </figure>\n",
            "</div>\n",
            "\n",
            "<div class=\"crop\">\n",
            "  <figure>\n",
            "      <img src=\"verb/待つ.jpg\" alt=\"Avatar\" style=\"width:200px\">\n",
            "      <figcaption class=\"spoiler\">\n",
            "        まつ　\n",
            "      </figcaption>\n",
            "\n",
            "      <figcaption class=\"spoiler\">\n",
            "        待つ\n",
            "      </figcaption>\n",
            "  </figure>\n",
            "  <figure>\n",
            "      <img src=\"verb/行く.jpg\" alt=\"Avatar\" style=\"width:200px\">\n",
            "      <figcaption class=\"spoiler\">\n",
            "        いく　\n",
            "      </figcaption>\n",
            "\n",
            "      <figcaption class=\"spoiler\">\n",
            "        行く\n",
            "      </figcaption>\n",
            "  </figure>\n",
            "</div>\n",
            "\n",
            "<div class=\"crop\">\n",
            "  <figure>\n",
            "      <img src=\"verb/歩く.jpg\" alt=\"Avatar\" style=\"width:200px\">\n",
            "      <figcaption class=\"spoiler\">\n",
            "        あるく　\n",
            "      </figcaption>\n",
            "\n",
            "      <figcaption class=\"spoiler\">\n",
            "        歩く\n",
            "      </figcaption>\n",
            "  </figure>\n",
            "  <figure>\n",
            "      <img src=\"verb/走る.jpg\" alt=\"Avatar\" style=\"width:200px\">\n",
            "      <figcaption class=\"spoiler\">\n",
            "        はしる　\n",
            "      </figcaption>\n",
            "\n",
            "      <figcaption class=\"spoiler\">\n",
            "        走る\n",
            "      </figcaption>\n",
            "  </figure>\n",
            "  <figure>\n",
            "      <img src=\"verb/飛ぶ.jpg\" alt=\"Avatar\" style=\"width:200px\">\n",
            "      <figcaption class=\"spoiler\">\n",
            "        とぶ　\n",
            "      </figcaption>\n",
            "\n",
            "      <figcaption class=\"spoiler\">\n",
            "        飛ぶ\n",
            "      </figcaption>\n",
            "  </figure>\n",
            "</div>\n",
            "\n",
            "<div class=\"crop\">\n",
            "  <figure>\n",
            "      <img src=\"verb/寝る.jpg\" alt=\"Avatar\" style=\"width:200px\">\n",
            "      <figcaption class=\"spoiler\">\n",
            "        ねる　\n",
            "      </figcaption>\n",
            "\n",
            "      <figcaption class=\"spoiler\">\n",
            "        寝る\n",
            "      </figcaption>\n",
            "  </figure>\n",
            "  <figure>\n",
            "      <img src=\"verb/働く.jpg\" alt=\"Avatar\" style=\"width:200px\">\n",
            "      <figcaption class=\"spoiler\">\n",
            "        はたらく　\n",
            "      </figcaption>\n",
            "\n",
            "      <figcaption class=\"spoiler\">\n",
            "        働く\n",
            "      </figcaption>\n",
            "  </figure>\n",
            "</div>\n",
            "\n",
            "<div class=\"crop\">\n",
            "  <figure>\n",
            "      <img src=\"verb/入る.jpg\" alt=\"Avatar\" style=\"width:200px\">\n",
            "      <figcaption class=\"spoiler\">\n",
            "        はいる　\n",
            "      </figcaption>\n",
            "\n",
            "      <figcaption class=\"spoiler\">\n",
            "        入る\n",
            "      </figcaption>\n",
            "  </figure>\n",
            "  <figure>\n",
            "      <img src=\"verb/出る.jpg\" alt=\"Avatar\" style=\"width:200px\">\n",
            "      <figcaption class=\"spoiler\">\n",
            "        でる　\n",
            "      </figcaption>\n",
            "\n",
            "      <figcaption class=\"spoiler\">\n",
            "        出る\n",
            "      </figcaption>\n",
            "  </figure>\n",
            "</div>\n",
            "\n",
            "<div class=\"crop\">\n",
            "  <figure>\n",
            "      <img src=\"verb/作る.jpg\" alt=\"Avatar\" style=\"width:200px\">\n",
            "      <figcaption class=\"spoiler\">\n",
            "        つくる　\n",
            "      </figcaption>\n",
            "\n",
            "      <figcaption class=\"spoiler\">\n",
            "        作る\n",
            "      </figcaption>\n",
            "  </figure>\n",
            "  <figure>\n",
            "      <img src=\"verb/壊す.jpg\" alt=\"Avatar\" style=\"width:200px\">\n",
            "      <figcaption class=\"spoiler\">\n",
            "        こわす　\n",
            "      </figcaption>\n",
            "\n",
            "      <figcaption class=\"spoiler\">\n",
            "        壊す\n",
            "      </figcaption>\n",
            "  </figure>\n",
            "</div>\n",
            "\n",
            "<div class=\"crop\">\n",
            "  <figure>\n",
            "      <img src=\"verb/作る.jpg\" alt=\"Avatar\" style=\"width:200px\">\n",
            "      <figcaption class=\"spoiler\">\n",
            "        つくる　\n",
            "      </figcaption>\n",
            "\n",
            "      <figcaption class=\"spoiler\">\n",
            "        作る\n",
            "      </figcaption>\n",
            "  </figure>\n",
            "  <figure>\n",
            "      <img src=\"verb/働く.jpg\" alt=\"Avatar\" style=\"width:200px\">\n",
            "      <figcaption class=\"spoiler\">\n",
            "        はたらく　\n",
            "      </figcaption>\n",
            "\n",
            "      <figcaption class=\"spoiler\">\n",
            "        働く\n",
            "      </figcaption>\n",
            "  </figure>\n",
            "</div>\n",
            "\n",
            "<div class=\"crop\">\n",
            "  <figure>\n",
            "      <img src=\"verb/見る.jpg\" alt=\"Avatar\" style=\"width:200px\">\n",
            "      <figcaption class=\"spoiler\">\n",
            "        みる　\n",
            "      </figcaption>\n",
            "\n",
            "      <figcaption class=\"spoiler\">\n",
            "        見る\n",
            "      </figcaption>\n",
            "  </figure>\n",
            "  <figure>\n",
            "      <img src=\"verb/探す.jpg\" alt=\"Avatar\" style=\"width:200px\">\n",
            "      <figcaption class=\"spoiler\">\n",
            "        さがす　\n",
            "      </figcaption>\n",
            "\n",
            "      <figcaption class=\"spoiler\">\n",
            "        探す\n",
            "      </figcaption>\n",
            "  </figure>\n",
            "</div>\n",
            "\n",
            "<div class=\"crop\">\n",
            "  <figure>\n",
            "      <img src=\"verb/行く.jpg\" alt=\"Avatar\" style=\"width:200px\">\n",
            "      <figcaption class=\"spoiler\">\n",
            "        いく　\n",
            "      </figcaption>\n",
            "\n",
            "      <figcaption class=\"spoiler\">\n",
            "        行く\n",
            "      </figcaption>\n",
            "  </figure>\n",
            "  <figure>\n",
            "      <img src=\"verb/帰る.jpg\" alt=\"Avatar\" style=\"width:200px\">\n",
            "      <figcaption class=\"spoiler\">\n",
            "        かえる　\n",
            "      </figcaption>\n",
            "\n",
            "      <figcaption class=\"spoiler\">\n",
            "        帰る\n",
            "      </figcaption>\n",
            "  </figure>\n",
            "  <figure>\n",
            "      <img src=\"verb/来（く）る.jpg\" alt=\"Avatar\" style=\"width:200px\">\n",
            "      <figcaption class=\"spoiler\">\n",
            "        くる　\n",
            "      </figcaption>\n",
            "\n",
            "      <figcaption class=\"spoiler\">\n",
            "        来（く）る\n",
            "      </figcaption>\n",
            "  </figure>\n",
            "</div>\n",
            "\n",
            "<div class=\"crop\">\n",
            "  <figure>\n",
            "      <img src=\"verb/上げる.jpg\" alt=\"Avatar\" style=\"width:200px\">\n",
            "      <figcaption class=\"spoiler\">\n",
            "        あげる　\n",
            "      </figcaption>\n",
            "\n",
            "      <figcaption class=\"spoiler\">\n",
            "        上げる\n",
            "      </figcaption>\n",
            "  </figure>\n",
            "  <figure>\n",
            "      <img src=\"verb/積む.jpg\" alt=\"Avatar\" style=\"width:200px\">\n",
            "      <figcaption class=\"spoiler\">\n",
            "        つむ　\n",
            "      </figcaption>\n",
            "\n",
            "      <figcaption class=\"spoiler\">\n",
            "        積む\n",
            "      </figcaption>\n",
            "  </figure>\n",
            "</div>\n",
            "\n",
            "<div class=\"crop\">\n",
            "  <figure>\n",
            "      <img src=\"verb/置く.jpg\" alt=\"Avatar\" style=\"width:200px\">\n",
            "      <figcaption class=\"spoiler\">\n",
            "        おく　\n",
            "      </figcaption>\n",
            "\n",
            "      <figcaption class=\"spoiler\">\n",
            "        置く\n",
            "      </figcaption>\n",
            "  </figure>\n",
            "  <figure>\n",
            "      <img src=\"verb/積む.jpg\" alt=\"Avatar\" style=\"width:200px\">\n",
            "      <figcaption class=\"spoiler\">\n",
            "        つむ　\n",
            "      </figcaption>\n",
            "\n",
            "      <figcaption class=\"spoiler\">\n",
            "        積む\n",
            "      </figcaption>\n",
            "  </figure>\n",
            "</div>\n",
            "\n",
            "<div class=\"crop\">\n",
            "  <figure>\n",
            "      <img src=\"verb/置く.jpg\" alt=\"Avatar\" style=\"width:200px\">\n",
            "      <figcaption class=\"spoiler\">\n",
            "        おく　\n",
            "      </figcaption>\n",
            "\n",
            "      <figcaption class=\"spoiler\">\n",
            "        置く\n",
            "      </figcaption>\n",
            "  </figure>\n",
            "  <figure>\n",
            "      <img src=\"verb/渡す.jpg\" alt=\"Avatar\" style=\"width:200px\">\n",
            "      <figcaption class=\"spoiler\">\n",
            "        わたす　\n",
            "      </figcaption>\n",
            "\n",
            "      <figcaption class=\"spoiler\">\n",
            "        渡す\n",
            "      </figcaption>\n",
            "  </figure>\n",
            "</div>\n",
            "\n",
            "<div class=\"crop\">\n",
            "  <figure>\n",
            "      <img src=\"verb/誘う.jpg\" alt=\"Avatar\" style=\"width:200px\">\n",
            "      <figcaption class=\"spoiler\">\n",
            "        さそう　\n",
            "      </figcaption>\n",
            "\n",
            "      <figcaption class=\"spoiler\">\n",
            "        誘う\n",
            "      </figcaption>\n",
            "  </figure>\n",
            "  <figure>\n",
            "      <img src=\"verb/会う.jpg\" alt=\"Avatar\" style=\"width:200px\">\n",
            "      <figcaption class=\"spoiler\">\n",
            "        あう　\n",
            "      </figcaption>\n",
            "\n",
            "      <figcaption class=\"spoiler\">\n",
            "        会う\n",
            "      </figcaption>\n",
            "  </figure>\n",
            "</div>\n",
            "\n",
            "<div class=\"crop\">\n",
            "  <figure>\n",
            "      <img src=\"verb/待つ.jpg\" alt=\"Avatar\" style=\"width:200px\">\n",
            "      <figcaption class=\"spoiler\">\n",
            "        まつ　\n",
            "      </figcaption>\n",
            "\n",
            "      <figcaption class=\"spoiler\">\n",
            "        待つ\n",
            "      </figcaption>\n",
            "  </figure>\n",
            "  <figure>\n",
            "      <img src=\"verb/会う.jpg\" alt=\"Avatar\" style=\"width:200px\">\n",
            "      <figcaption class=\"spoiler\">\n",
            "        あう　\n",
            "      </figcaption>\n",
            "\n",
            "      <figcaption class=\"spoiler\">\n",
            "        会う\n",
            "      </figcaption>\n",
            "  </figure>\n",
            "</div>\n"
          ],
          "name": "stdout"
        }
      ]
    },
    {
      "cell_type": "code",
      "metadata": {
        "colab": {
          "base_uri": "https://localhost:8080/"
        },
        "id": "Et6cHnQFcH42",
        "outputId": "db99b979-e7c0-4542-8317-5fffa88b1b57"
      },
      "source": [
        "(75, 240, 820, 240 + 760 - 15)"
      ],
      "execution_count": null,
      "outputs": [
        {
          "output_type": "execute_result",
          "data": {
            "text/plain": [
              "(75, 240, 820, 985)"
            ]
          },
          "metadata": {
            "tags": []
          },
          "execution_count": 121
        }
      ]
    },
    {
      "cell_type": "code",
      "metadata": {
        "colab": {
          "base_uri": "https://localhost:8080/"
        },
        "id": "IxyYVLdSjIzh",
        "outputId": "008a2710-ca74-4e8d-8a0c-c421f9893305"
      },
      "source": [
        "820-75"
      ],
      "execution_count": null,
      "outputs": [
        {
          "output_type": "execute_result",
          "data": {
            "text/plain": [
              "745"
            ]
          },
          "metadata": {
            "tags": []
          },
          "execution_count": 119
        }
      ]
    },
    {
      "cell_type": "code",
      "metadata": {
        "colab": {
          "base_uri": "https://localhost:8080/"
        },
        "id": "-2mshF7-jKEm",
        "outputId": "55eb3642-9ad5-4422-99c0-f7542abe48e0"
      },
      "source": [
        "240 + 760 - 15 - 240"
      ],
      "execution_count": null,
      "outputs": [
        {
          "output_type": "execute_result",
          "data": {
            "text/plain": [
              "745"
            ]
          },
          "metadata": {
            "tags": []
          },
          "execution_count": 122
        }
      ]
    },
    {
      "cell_type": "code",
      "metadata": {
        "id": "UQUU0niYjUjO"
      },
      "source": [
        ""
      ],
      "execution_count": null,
      "outputs": []
    }
  ]
}