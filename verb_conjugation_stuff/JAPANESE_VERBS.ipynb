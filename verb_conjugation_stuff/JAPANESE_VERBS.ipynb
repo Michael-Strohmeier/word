{
  "nbformat": 4,
  "nbformat_minor": 0,
  "metadata": {
    "colab": {
      "name": "JAPANESE_VERBS.ipynb",
      "provenance": [],
      "collapsed_sections": []
    },
    "kernelspec": {
      "name": "python3",
      "display_name": "Python 3"
    },
    "language_info": {
      "name": "python"
    }
  },
  "cells": [
    {
      "cell_type": "code",
      "metadata": {
        "id": "qi4Gs7FlS9KM"
      },
      "source": [
        "import pandas as pd\n",
        "from bs4 import BeautifulSoup\n",
        "import urllib.parse\n",
        "import urllib.request\n",
        "import time\n",
        "\n",
        "forms = [\"Plain\", \"Past plain\", \"Present polite\", \"Past polite\", \"Potential\",\n",
        "\"Te\", \"Imperative\", \"Volitional\", \"Ba\", \"Causative\", \"Chau\",\n",
        "\"Chimau\", \"I\", \"Nasai imperative\", \"Passive\", \"Tara\"]\n",
        "\n",
        "df_headers = ['Kanji', 'Plain', 'Plain negative', 'Past plain', 'Past plain negative', 'Present polite',\n",
        "           'Present polite negative',\n",
        "           'Past polite', 'Past polite negative', 'Potential', 'Potential negative', 'Te',\n",
        "           'Te negative', 'Imperative', 'Imperative negative', 'Volitional', 'Volitional negative', \n",
        "           'Ba', 'Ba negative', 'Causative', 'Causative negative', 'Chau', 'Chau negative', 'Chimau', 'Chimau negative', 'I', 'I negative', 'Nasai imperative',\n",
        "           'Nasai imperative negative', 'Passive', 'Passive negative', 'Tara', 'Tara negative']\n",
        "\n",
        "\n",
        "headers = {'user-agent': 'Mozilla/5.0 (Windows NT 10.0; Win64; x64) AppleWebKit/537.36 (KHTML, like Gecko) Chrome/78.0.3904.108 Safari/537.36',\n",
        "           'cookie': 'visid_incap_1712983=Dfo+CVLdTCSzMHcIXEgPSb1y7l0AAAAAQUIPAAAAAAAetg/EHDkFJUigbIo4eaK4; incap_ses_532_1712983=dFrgDpkdqkYCF1u+mQxiB71y7l0AAAAAksMc42V5CJx6OdUZdeHflA==; has_js=1; _ga=GA1.2.626207180.1575908117; _gid=GA1.2.512657448.1575908117; __utma=158387685.626207180.1575908117.1575908117.1575908117.1; __utmc=158387685; __utmz=158387685.1575908117.1.1.utmcsr=(direct)^|utmccn=(direct)^|utmcmd=(none); __utmt=1; __utmt_b=1; _aeaid=5e12b9d6-0171-4fde-8ccf-1bba809a1bb2; aeatstartmessage=true; __utmb=158387685.4.10.1575908117',\n",
        "          }"
      ],
      "execution_count": 1,
      "outputs": []
    },
    {
      "cell_type": "code",
      "metadata": {
        "id": "AB7NMEmaTZ4U"
      },
      "source": [
        "xls_path = \"/content/en_vocab_list.xlsx\"\n",
        "sheet_names = [\"Verbs\", \"Nouns\", \"Adjectives (-i)\", \"Adjectival nouns\", \"Adverbs\", \"Pronouns\", \"Determiners\", \"Auxiliaries\"]\n",
        "df = pd.read_excel(xls_path, sheet_name = sheet_names)"
      ],
      "execution_count": 2,
      "outputs": []
    },
    {
      "cell_type": "code",
      "metadata": {
        "id": "SrNcBXvsWs4T"
      },
      "source": [
        "df_verbs = df[\"Verbs\"]\n",
        "df_nouns = df[\"Nouns\"]\n",
        "df_adj_i = df[\"Adjectives (-i)\"]\n",
        "df_adj_nouns = df[\"Adjectival nouns\"]\n",
        "df_adverbs = df[\"Adverbs\"]\n",
        "df_pronouns = df[\"Pronouns\"]\n",
        "df_determiners = df[\"Determiners\"]\n",
        "df_auxiliaries = df[\"Auxiliaries\"]\n",
        "\n",
        "df = None"
      ],
      "execution_count": 3,
      "outputs": []
    },
    {
      "cell_type": "code",
      "metadata": {
        "id": "ggOMim8jTcw3"
      },
      "source": [
        "def p(df, rank):\n",
        "  temp = df[df[\"Frequency ranking\"] < rank]\n",
        "  return temp\n",
        "\n",
        "temp = []\n",
        "rank = 3000\n",
        "\n",
        "temp_df = p(df_verbs, rank)\n",
        "#temp_df = temp_df.append(p(df_nouns, rank))\n",
        "#temp_df = temp_df.append(p(df_adj_i, rank))\n",
        "#temp_df = temp_df.append(p(df_adj_nouns, rank))\n",
        "#temp_df = temp_df.append(p(df_adverbs, rank))\n",
        "#temp_df = temp_df.append(p(df_pronouns, rank))\n",
        "#temp_df = temp_df.append(p(df_determiners, rank))\n",
        "\n",
        "# temp_df = p(df_verbs, rank)\n",
        "temp_df = temp_df.sort_values(by=[\"Frequency ranking\"])\n",
        "# temp_df.to_csv(\"verbs.csv\", index=False)"
      ],
      "execution_count": 19,
      "outputs": []
    },
    {
      "cell_type": "code",
      "metadata": {
        "colab": {
          "base_uri": "https://localhost:8080/",
          "height": 538
        },
        "id": "lzYNE1M-TfCn",
        "outputId": "6880ae2e-5c79-4819-aea3-7fdd358fd272"
      },
      "source": [
        "temp_df"
      ],
      "execution_count": 259,
      "outputs": [
        {
          "output_type": "execute_result",
          "data": {
            "text/html": [
              "<div>\n",
              "<style scoped>\n",
              "    .dataframe tbody tr th:only-of-type {\n",
              "        vertical-align: middle;\n",
              "    }\n",
              "\n",
              "    .dataframe tbody tr th {\n",
              "        vertical-align: top;\n",
              "    }\n",
              "\n",
              "    .dataframe thead th {\n",
              "        text-align: right;\n",
              "    }\n",
              "</style>\n",
              "<table border=\"1\" class=\"dataframe\">\n",
              "  <thead>\n",
              "    <tr style=\"text-align: right;\">\n",
              "      <th></th>\n",
              "      <th>Frequency ranking</th>\n",
              "      <th>Kanji</th>\n",
              "      <th>Standard Orthography (in newspapers)</th>\n",
              "      <th>Standard Reading (in Hiragana)</th>\n",
              "      <th>Part of speech</th>\n",
              "    </tr>\n",
              "  </thead>\n",
              "  <tbody>\n",
              "    <tr>\n",
              "      <th>0</th>\n",
              "      <td>10</td>\n",
              "      <td>為る</td>\n",
              "      <td>する</td>\n",
              "      <td>する</td>\n",
              "      <td>動詞-非自立可能</td>\n",
              "    </tr>\n",
              "    <tr>\n",
              "      <th>1</th>\n",
              "      <td>13</td>\n",
              "      <td>居る</td>\n",
              "      <td>いる</td>\n",
              "      <td>いる</td>\n",
              "      <td>動詞-非自立可能</td>\n",
              "    </tr>\n",
              "    <tr>\n",
              "      <th>2</th>\n",
              "      <td>14</td>\n",
              "      <td>有る</td>\n",
              "      <td>ある</td>\n",
              "      <td>ある</td>\n",
              "      <td>動詞-非自立可能</td>\n",
              "    </tr>\n",
              "    <tr>\n",
              "      <th>3</th>\n",
              "      <td>17</td>\n",
              "      <td>言う</td>\n",
              "      <td>いう</td>\n",
              "      <td>いう</td>\n",
              "      <td>動詞-一般</td>\n",
              "    </tr>\n",
              "    <tr>\n",
              "      <th>4</th>\n",
              "      <td>23</td>\n",
              "      <td>成る</td>\n",
              "      <td>なる</td>\n",
              "      <td>なる</td>\n",
              "      <td>動詞-非自立可能</td>\n",
              "    </tr>\n",
              "    <tr>\n",
              "      <th>...</th>\n",
              "      <td>...</td>\n",
              "      <td>...</td>\n",
              "      <td>...</td>\n",
              "      <td>...</td>\n",
              "      <td>...</td>\n",
              "    </tr>\n",
              "    <tr>\n",
              "      <th>478</th>\n",
              "      <td>2968</td>\n",
              "      <td>差し出す</td>\n",
              "      <td>差し出す</td>\n",
              "      <td>さしだす</td>\n",
              "      <td>動詞-一般</td>\n",
              "    </tr>\n",
              "    <tr>\n",
              "      <th>479</th>\n",
              "      <td>2968</td>\n",
              "      <td>受け止める</td>\n",
              "      <td>受け止める</td>\n",
              "      <td>うけとめる</td>\n",
              "      <td>動詞-一般</td>\n",
              "    </tr>\n",
              "    <tr>\n",
              "      <th>480</th>\n",
              "      <td>2982</td>\n",
              "      <td>下す</td>\n",
              "      <td>下す</td>\n",
              "      <td>くだす</td>\n",
              "      <td>動詞-一般</td>\n",
              "    </tr>\n",
              "    <tr>\n",
              "      <th>481</th>\n",
              "      <td>2987</td>\n",
              "      <td>試みる</td>\n",
              "      <td>試みる</td>\n",
              "      <td>こころみる</td>\n",
              "      <td>動詞-一般</td>\n",
              "    </tr>\n",
              "    <tr>\n",
              "      <th>482</th>\n",
              "      <td>2996</td>\n",
              "      <td>載せる</td>\n",
              "      <td>載せる</td>\n",
              "      <td>のせる</td>\n",
              "      <td>動詞-一般</td>\n",
              "    </tr>\n",
              "  </tbody>\n",
              "</table>\n",
              "<p>483 rows × 5 columns</p>\n",
              "</div>"
            ],
            "text/plain": [
              "     Frequency ranking  Kanji  ... Standard Reading (in Hiragana) Part of speech\n",
              "0                   10     為る  ...                             する       動詞-非自立可能\n",
              "1                   13     居る  ...                             いる       動詞-非自立可能\n",
              "2                   14     有る  ...                             ある       動詞-非自立可能\n",
              "3                   17     言う  ...                             いう          動詞-一般\n",
              "4                   23     成る  ...                             なる       動詞-非自立可能\n",
              "..                 ...    ...  ...                            ...            ...\n",
              "478               2968   差し出す  ...                           さしだす          動詞-一般\n",
              "479               2968  受け止める  ...                          うけとめる          動詞-一般\n",
              "480               2982     下す  ...                            くだす          動詞-一般\n",
              "481               2987    試みる  ...                          こころみる          動詞-一般\n",
              "482               2996    載せる  ...                            のせる          動詞-一般\n",
              "\n",
              "[483 rows x 5 columns]"
            ]
          },
          "metadata": {
            "tags": []
          },
          "execution_count": 259
        }
      ]
    },
    {
      "cell_type": "code",
      "metadata": {
        "id": "Qn74Vpx0NH0K"
      },
      "source": [
        "def get_conjucations(kanji):\n",
        "  s = \"\"\n",
        "  for i, c in enumerate(kanji.encode('utf-8').hex()):\n",
        "    if i % 2 == 0:\n",
        "      s += \"%\"\n",
        "    s += c\n",
        "\n",
        "  url = f\"https://www.sljfaq.org/cgi/verb-inflect.cgi?verb={s}&ot=kana\"\n",
        "  url_request = urllib.request.Request(url, data=None, headers=headers)\n",
        "  url_response = urllib.request.urlopen(url_request)\n",
        "  soup = BeautifulSoup(url_response, \"html.parser\", from_encoding=\"iso-8859-1\")\n",
        "\n",
        "  temp_soup = soup\n",
        "  table = temp_soup.find(\"table\", {\"class\": \"vocab-list bordered\"})\n",
        "  #symbol.text.encode('latin1').decode('utf-8')\n",
        "  table_rows = table.find_all(\"td\")\n",
        "\n",
        "  temp_table = []\n",
        "  for tr in table_rows:\n",
        "    text = tr.text.encode('latin1').decode('utf-8').strip()\n",
        "    text = text.replace(\"\\n\", \"\")\n",
        "    if text in forms:\n",
        "      temp_table.append([])\n",
        "\n",
        "    temp_table[len(temp_table) - 1].append(text)\n",
        "\n",
        "  temp_table_dict = {}\n",
        "  for row in temp_table:\n",
        "    temp_table_dict[row[0]] = row[1]\n",
        "    temp_table_dict[row[0] + \" negative\"] = row[2]\n",
        "\n",
        "  temp_table_dict[\"Kanji\"] = kanji\n",
        "\n",
        "  return temp_table_dict"
      ],
      "execution_count": 260,
      "outputs": []
    },
    {
      "cell_type": "code",
      "metadata": {
        "colab": {
          "base_uri": "https://localhost:8080/"
        },
        "id": "xLQOz4lAT_je",
        "outputId": "1da48f11-edf5-4c30-8430-d0c980ef0bcf"
      },
      "source": [
        "ok_df = pd.DataFrame(columns=df_headers)\n",
        "for kanji in temp_df[\"Standard Orthography (in newspapers)\"]:\n",
        "  try:\n",
        "    time.sleep(1)\n",
        "    ok_df = ok_df.append(get_conjucations(kanji), ignore_index=True)\n",
        "  except:\n",
        "    print(kanji)"
      ],
      "execution_count": 261,
      "outputs": [
        {
          "output_type": "stream",
          "text": [
            "下さる\n",
            "置く／おく\n",
            "対する\n",
            "感ずる\n",
            "関する\n",
            "信ずる\n",
            "生ずる\n",
            "通ずる\n",
            "応ずる\n",
            "張る／貼る\n",
            "愛する\n",
            "要する\n",
            "達する\n",
            "命ずる\n",
            "有する\n",
            "発する\n",
            "属する\n",
            "接する\n",
            "称する\n",
            "存ずる\n",
            "論ずる\n",
            "反する\n"
          ],
          "name": "stdout"
        }
      ]
    },
    {
      "cell_type": "code",
      "metadata": {
        "id": "SKR8zk1AZ0EQ"
      },
      "source": [
        "ok_df.to_csv(\"verbs.csv\", index=False)"
      ],
      "execution_count": 265,
      "outputs": []
    },
    {
      "cell_type": "code",
      "metadata": {
        "id": "pTgsUpnZaXr4"
      },
      "source": [
        "df_verbs.columns = ['Frequency ranking', 'Kanji', 'Standard Orthography (in newspapers)',\n",
        "       'Standard Reading (in Hiragana)', 'Part of speech']\n",
        "#temp = pd.merge(df1, df2, on=\"movie_title\")"
      ],
      "execution_count": 262,
      "outputs": []
    },
    {
      "cell_type": "code",
      "metadata": {
        "id": "XTMxnreSb2Vo"
      },
      "source": [
        "temp = pd.merge(ok_df, df_verbs, on=\"Kanji\")"
      ],
      "execution_count": 263,
      "outputs": []
    },
    {
      "cell_type": "code",
      "metadata": {
        "id": "znVGT6l3b7w0"
      },
      "source": [
        "temp.to_csv(\"verbs_final.csv\", index=False)"
      ],
      "execution_count": 264,
      "outputs": []
    },
    {
      "cell_type": "code",
      "metadata": {
        "id": "NHsQZQgbtfm1"
      },
      "source": [
        "\n",
        "\n",
        "kanji = \"為る\" # .encode('utf-8').strip()\n",
        "s = \"\"\n",
        "for i, c in enumerate(kanji.encode('utf-8').hex()):\n",
        "  if i % 2 == 0:\n",
        "    s += \"%\"\n",
        "  s += c\n",
        "\n",
        "url = f\"https://www.sljfaq.org/cgi/verb-inflect.cgi?verb={s}&ot=kana\"\n",
        "url_request = urllib.request.Request(url, data=None, headers=headers)\n",
        "url_response = urllib.request.urlopen(url_request)\n",
        "soup = BeautifulSoup(url_response, \"html.parser\", from_encoding=\"iso-8859-1\")"
      ],
      "execution_count": 171,
      "outputs": []
    },
    {
      "cell_type": "code",
      "metadata": {
        "id": "Kc1ZUGAZtf6S"
      },
      "source": [
        "temp_soup = soup\n",
        "table = temp_soup.find(\"table\", {\"class\": \"vocab-list bordered\"})\n",
        "#symbol.text.encode('latin1').decode('utf-8')\n",
        "table_rows = table.find_all(\"td\")"
      ],
      "execution_count": 176,
      "outputs": []
    },
    {
      "cell_type": "code",
      "metadata": {
        "colab": {
          "base_uri": "https://localhost:8080/",
          "height": 168
        },
        "id": "mxlPlJHQvUo7",
        "outputId": "13a3e0a2-fd80-4cad-b28c-9f2e1d7d51db"
      },
      "source": [
        "\n",
        "\n",
        "\n",
        "temp_table = []\n",
        "for tr in table_rows:\n",
        "  text = tr.text.encode('latin1').decode('utf-8').strip()\n",
        "  text = text.replace(\"\\n\", \"\")\n",
        "  if text in forms:\n",
        "    temp_table.append([])\n",
        "\n",
        "  temp_table[len(temp_table) - 1].append(text)\n",
        "\n",
        "temp_table_dict = {}\n",
        "for row in temp_table:\n",
        "  temp_table_dict[row[0]] = row[1]\n",
        "  temp_table_dict[row[0] + \" negative\"] = row[2]\n",
        "\n",
        "\n",
        "  # print(tr.text.encode('latin1').decode('utf-8'))\n",
        "ok_df.append(temp_table_dict, ignore_index=True)"
      ],
      "execution_count": 210,
      "outputs": [
        {
          "output_type": "execute_result",
          "data": {
            "text/html": [
              "<div>\n",
              "<style scoped>\n",
              "    .dataframe tbody tr th:only-of-type {\n",
              "        vertical-align: middle;\n",
              "    }\n",
              "\n",
              "    .dataframe tbody tr th {\n",
              "        vertical-align: top;\n",
              "    }\n",
              "\n",
              "    .dataframe thead th {\n",
              "        text-align: right;\n",
              "    }\n",
              "</style>\n",
              "<table border=\"1\" class=\"dataframe\">\n",
              "  <thead>\n",
              "    <tr style=\"text-align: right;\">\n",
              "      <th></th>\n",
              "      <th>Plain</th>\n",
              "      <th>Plain negative</th>\n",
              "      <th>Past plain</th>\n",
              "      <th>Past plain negative</th>\n",
              "      <th>Present polite</th>\n",
              "      <th>Present polite negative</th>\n",
              "      <th>Past polite</th>\n",
              "      <th>Past polite negative</th>\n",
              "      <th>Potential</th>\n",
              "      <th>Potential negative</th>\n",
              "      <th>Te</th>\n",
              "      <th>Te negative</th>\n",
              "      <th>Imperative</th>\n",
              "      <th>Imperative negative</th>\n",
              "      <th>Volitional</th>\n",
              "      <th>Volitional negative</th>\n",
              "      <th>Ba</th>\n",
              "      <th>Ba negative</th>\n",
              "      <th>Causative</th>\n",
              "      <th>Causative negative</th>\n",
              "      <th>Chau</th>\n",
              "      <th>Chau negative</th>\n",
              "      <th>Chimau</th>\n",
              "      <th>Chimau negative</th>\n",
              "      <th>I</th>\n",
              "      <th>I negative</th>\n",
              "      <th>Nasai imperative</th>\n",
              "      <th>Nasai imperative negative</th>\n",
              "      <th>Passive</th>\n",
              "      <th>Passive negative</th>\n",
              "      <th>Tara</th>\n",
              "      <th>Tara negative</th>\n",
              "    </tr>\n",
              "  </thead>\n",
              "  <tbody>\n",
              "    <tr>\n",
              "      <th>0</th>\n",
              "      <td>なる</td>\n",
              "      <td>ならない</td>\n",
              "      <td>なった</td>\n",
              "      <td>ならなかった</td>\n",
              "      <td>なります</td>\n",
              "      <td>なりません</td>\n",
              "      <td>なりました</td>\n",
              "      <td>なりません でした</td>\n",
              "      <td>なれる</td>\n",
              "      <td>なれない</td>\n",
              "      <td>なって</td>\n",
              "      <td>ならないで</td>\n",
              "      <td>なれ</td>\n",
              "      <td>なる な</td>\n",
              "      <td>なろう</td>\n",
              "      <td></td>\n",
              "      <td>なれば</td>\n",
              "      <td>ならなければ</td>\n",
              "      <td>ならせる</td>\n",
              "      <td>ならせない</td>\n",
              "      <td>なっちゃう</td>\n",
              "      <td></td>\n",
              "      <td>なっちまう</td>\n",
              "      <td></td>\n",
              "      <td>なり</td>\n",
              "      <td></td>\n",
              "      <td>なりなさい</td>\n",
              "      <td></td>\n",
              "      <td>なられる</td>\n",
              "      <td>なられない</td>\n",
              "      <td>なったら</td>\n",
              "      <td>ならなかったら</td>\n",
              "    </tr>\n",
              "  </tbody>\n",
              "</table>\n",
              "</div>"
            ],
            "text/plain": [
              "  Plain Plain negative Past plain  ... Passive negative  Tara Tara negative\n",
              "0    なる           ならない        なった  ...            なられない  なったら       ならなかったら\n",
              "\n",
              "[1 rows x 32 columns]"
            ]
          },
          "metadata": {
            "tags": []
          },
          "execution_count": 210
        }
      ]
    },
    {
      "cell_type": "code",
      "metadata": {
        "id": "Hh0Ifun9vqkR"
      },
      "source": [
        ""
      ],
      "execution_count": 184,
      "outputs": []
    },
    {
      "cell_type": "code",
      "metadata": {
        "colab": {
          "base_uri": "https://localhost:8080/"
        },
        "id": "zg1vc9VN4qrq",
        "outputId": "886102e2-1881-400a-dd27-cb7485a43b81"
      },
      "source": [
        "temp_df[\"Lexeme\"][:3]"
      ],
      "execution_count": 215,
      "outputs": [
        {
          "output_type": "execute_result",
          "data": {
            "text/plain": [
              "0    為る\n",
              "1    居る\n",
              "2    有る\n",
              "Name: Lexeme, dtype: object"
            ]
          },
          "metadata": {
            "tags": []
          },
          "execution_count": 215
        }
      ]
    },
    {
      "cell_type": "code",
      "metadata": {
        "colab": {
          "base_uri": "https://localhost:8080/"
        },
        "id": "JVxP2utDKcUP",
        "outputId": "c88debe4-e0e6-4b33-dbd4-37d242db17da"
      },
      "source": [
        "temp_table_2"
      ],
      "execution_count": 211,
      "outputs": [
        {
          "output_type": "execute_result",
          "data": {
            "text/plain": [
              "[['Plain', 'なる'],\n",
              " ['Plain negative', 'ならない'],\n",
              " ['Past plain', 'なった'],\n",
              " ['Past plain negative', 'ならなかった'],\n",
              " ['Present polite', 'なります'],\n",
              " ['Present polite negative', 'なりません'],\n",
              " ['Past polite', 'なりました'],\n",
              " ['Past polite negative', 'なりません でした'],\n",
              " ['Potential', 'なれる'],\n",
              " ['Potential negative', 'なれない'],\n",
              " ['Te', 'なって'],\n",
              " ['Te negative', 'ならないで'],\n",
              " ['Imperative', 'なれ'],\n",
              " ['Imperative negative', 'なる な'],\n",
              " ['Volitional', 'なろう'],\n",
              " ['Volitional negative', ''],\n",
              " ['Ba', 'なれば'],\n",
              " ['Ba negative', 'ならなければ'],\n",
              " ['Causative', 'ならせる'],\n",
              " ['Causative negative', 'ならせない'],\n",
              " ['Chau', 'なっちゃう'],\n",
              " ['Chau negative', ''],\n",
              " ['Chimau', 'なっちまう'],\n",
              " ['Chimau negative', ''],\n",
              " ['I', 'なり'],\n",
              " ['I negative', ''],\n",
              " ['Nasai imperative', 'なりなさい'],\n",
              " ['Nasai imperative negative', ''],\n",
              " ['Passive', 'なられる'],\n",
              " ['Passive negative', 'なられない'],\n",
              " ['Tara', 'なったら'],\n",
              " ['Tara negative', 'ならなかったら']]"
            ]
          },
          "metadata": {
            "tags": []
          },
          "execution_count": 211
        }
      ]
    },
    {
      "cell_type": "code",
      "metadata": {
        "id": "7Cme_Mz04xTV"
      },
      "source": [
        ""
      ],
      "execution_count": 186,
      "outputs": []
    },
    {
      "cell_type": "code",
      "metadata": {
        "id": "iLH4L73x5CuU"
      },
      "source": [
        ""
      ],
      "execution_count": 167,
      "outputs": []
    },
    {
      "cell_type": "code",
      "metadata": {
        "id": "djUMzMSe5C7U"
      },
      "source": [
        ""
      ],
      "execution_count": 167,
      "outputs": []
    },
    {
      "cell_type": "code",
      "metadata": {
        "id": "PVhp-sVZ5Z7L"
      },
      "source": [
        ""
      ],
      "execution_count": 167,
      "outputs": []
    },
    {
      "cell_type": "code",
      "metadata": {
        "id": "gxJNeyca6Pqd"
      },
      "source": [
        ""
      ],
      "execution_count": 167,
      "outputs": []
    },
    {
      "cell_type": "code",
      "metadata": {
        "id": "xjfUXUM06R0b"
      },
      "source": [
        ""
      ],
      "execution_count": 167,
      "outputs": []
    },
    {
      "cell_type": "code",
      "metadata": {
        "id": "sDrSV5Mx7oUB"
      },
      "source": [
        ""
      ],
      "execution_count": 167,
      "outputs": []
    },
    {
      "cell_type": "code",
      "metadata": {
        "id": "g-zgJUqT8j16"
      },
      "source": [
        ""
      ],
      "execution_count": 167,
      "outputs": []
    },
    {
      "cell_type": "code",
      "metadata": {
        "id": "rtzL11rw8uwJ"
      },
      "source": [
        ""
      ],
      "execution_count": 169,
      "outputs": []
    },
    {
      "cell_type": "code",
      "metadata": {
        "id": "FW_kN8nk9uHb"
      },
      "source": [
        ""
      ],
      "execution_count": 3,
      "outputs": []
    },
    {
      "cell_type": "code",
      "metadata": {
        "id": "goo0F_txMbNU"
      },
      "source": [
        "temp_df.columns = ['Frequency ranking', 'Lexeme', 'Kanji',\n",
        "       'Standard Reading (in Hiragana)', 'Part of speech']"
      ],
      "execution_count": 20,
      "outputs": []
    },
    {
      "cell_type": "code",
      "metadata": {
        "id": "0XmDuHRaMoHH"
      },
      "source": [
        "df = pd.read_csv(\"/content/verbs (1).csv\")"
      ],
      "execution_count": 21,
      "outputs": []
    },
    {
      "cell_type": "code",
      "metadata": {
        "id": "3d1NKwgZMxxI"
      },
      "source": [
        "# temp = pd.merge(df, temp_df, on=\"Kanji\")\n",
        "temp = []\n",
        "\n",
        "temp3 = []\n",
        "temp4 = []\n",
        "\n",
        "last = 0\n",
        "for curr in range(0, len(df)):\n",
        "  for i in range(last, len(temp_df)):\n",
        "    if df.loc[curr][\"Kanji\"] == temp_df.loc[i][\"Kanji\"]:\n",
        "      temp3.append(df.loc[curr])\n",
        "      temp4.append(temp_df.loc[i])\n",
        "      #temp.append([df.loc[curr], temp_df.loc[i]])\n",
        "      break\n",
        "\n",
        "    last = i\n",
        "\n",
        "temp3 = pd.DataFrame(temp3)\n",
        "temp4 = pd.DataFrame(temp4)"
      ],
      "execution_count": 88,
      "outputs": []
    },
    {
      "cell_type": "code",
      "metadata": {
        "colab": {
          "base_uri": "https://localhost:8080/"
        },
        "id": "w5wU5Hy5MyNf",
        "outputId": "154513d3-52d1-4066-bca9-592ff58b26ab"
      },
      "source": [
        "len(df)"
      ],
      "execution_count": 89,
      "outputs": [
        {
          "output_type": "execute_result",
          "data": {
            "text/plain": [
              "461"
            ]
          },
          "metadata": {
            "tags": []
          },
          "execution_count": 89
        }
      ]
    },
    {
      "cell_type": "code",
      "metadata": {
        "colab": {
          "base_uri": "https://localhost:8080/"
        },
        "id": "RqvLipvhN0UI",
        "outputId": "61626e3c-79a7-4c9f-df05-8df88b47c945"
      },
      "source": [
        "len(temp3)\n",
        "temp4.columns"
      ],
      "execution_count": 105,
      "outputs": [
        {
          "output_type": "execute_result",
          "data": {
            "text/plain": [
              "Index(['Frequency ranking', 'Lexeme', 'Kanji',\n",
              "       'Standard Reading (in Hiragana)', 'Part of speech'],\n",
              "      dtype='object')"
            ]
          },
          "metadata": {
            "tags": []
          },
          "execution_count": 105
        }
      ]
    },
    {
      "cell_type": "code",
      "metadata": {
        "id": "tq9_NwrPNMNl"
      },
      "source": [
        "temp3[\"Frequency ranking\"] = temp4[\"Frequency ranking\"]\n",
        "temp3[\"Lexeme\"] = temp4[\"Lexeme\"]\n",
        "temp3[\"Standard Reading (in Hiragana)\"] = temp4[\"Standard Reading (in Hiragana)\"]"
      ],
      "execution_count": 106,
      "outputs": []
    },
    {
      "cell_type": "code",
      "metadata": {
        "colab": {
          "base_uri": "https://localhost:8080/"
        },
        "id": "9Ck3l0dSNM7n",
        "outputId": "84333777-a3d0-49df-d449-10a405c200a4"
      },
      "source": [
        "len(temp3)"
      ],
      "execution_count": 107,
      "outputs": [
        {
          "output_type": "execute_result",
          "data": {
            "text/plain": [
              "461"
            ]
          },
          "metadata": {
            "tags": []
          },
          "execution_count": 107
        }
      ]
    },
    {
      "cell_type": "code",
      "metadata": {
        "colab": {
          "base_uri": "https://localhost:8080/",
          "height": 1000
        },
        "id": "GuGS9AEFNOdV",
        "outputId": "11a0e6ba-e363-4694-9dc7-ba2b1a0a8134"
      },
      "source": [
        "temp3"
      ],
      "execution_count": 108,
      "outputs": [
        {
          "output_type": "execute_result",
          "data": {
            "text/html": [
              "<div>\n",
              "<style scoped>\n",
              "    .dataframe tbody tr th:only-of-type {\n",
              "        vertical-align: middle;\n",
              "    }\n",
              "\n",
              "    .dataframe tbody tr th {\n",
              "        vertical-align: top;\n",
              "    }\n",
              "\n",
              "    .dataframe thead th {\n",
              "        text-align: right;\n",
              "    }\n",
              "</style>\n",
              "<table border=\"1\" class=\"dataframe\">\n",
              "  <thead>\n",
              "    <tr style=\"text-align: right;\">\n",
              "      <th></th>\n",
              "      <th>Kanji</th>\n",
              "      <th>Plain</th>\n",
              "      <th>Plain negative</th>\n",
              "      <th>Past plain</th>\n",
              "      <th>Past plain negative</th>\n",
              "      <th>Present polite</th>\n",
              "      <th>Present polite negative</th>\n",
              "      <th>Past polite</th>\n",
              "      <th>Past polite negative</th>\n",
              "      <th>Potential</th>\n",
              "      <th>Potential negative</th>\n",
              "      <th>Te</th>\n",
              "      <th>Te negative</th>\n",
              "      <th>Imperative</th>\n",
              "      <th>Imperative negative</th>\n",
              "      <th>Volitional</th>\n",
              "      <th>Volitional negative</th>\n",
              "      <th>Ba</th>\n",
              "      <th>Ba negative</th>\n",
              "      <th>Causative</th>\n",
              "      <th>Causative negative</th>\n",
              "      <th>Chau</th>\n",
              "      <th>Chau negative</th>\n",
              "      <th>Chimau</th>\n",
              "      <th>Chimau negative</th>\n",
              "      <th>I</th>\n",
              "      <th>I negative</th>\n",
              "      <th>Nasai imperative</th>\n",
              "      <th>Nasai imperative negative</th>\n",
              "      <th>Passive</th>\n",
              "      <th>Passive negative</th>\n",
              "      <th>Tara</th>\n",
              "      <th>Tara negative</th>\n",
              "      <th>Frequency ranking</th>\n",
              "      <th>Lexeme</th>\n",
              "      <th>Standard Reading (in Hiragana)</th>\n",
              "    </tr>\n",
              "  </thead>\n",
              "  <tbody>\n",
              "    <tr>\n",
              "      <th>0</th>\n",
              "      <td>する</td>\n",
              "      <td>する</td>\n",
              "      <td>しない</td>\n",
              "      <td>した</td>\n",
              "      <td>しなかった</td>\n",
              "      <td>します</td>\n",
              "      <td>しません</td>\n",
              "      <td>しました</td>\n",
              "      <td>しません でした</td>\n",
              "      <td>できる</td>\n",
              "      <td>NaN</td>\n",
              "      <td>して</td>\n",
              "      <td>しないで</td>\n",
              "      <td>しろ</td>\n",
              "      <td>する な</td>\n",
              "      <td>しよう</td>\n",
              "      <td>NaN</td>\n",
              "      <td>すれば</td>\n",
              "      <td>しなければ</td>\n",
              "      <td>させる</td>\n",
              "      <td>させない</td>\n",
              "      <td>しちゃう</td>\n",
              "      <td>NaN</td>\n",
              "      <td>しちまう</td>\n",
              "      <td>NaN</td>\n",
              "      <td>し</td>\n",
              "      <td>NaN</td>\n",
              "      <td>しなさい</td>\n",
              "      <td>NaN</td>\n",
              "      <td>される</td>\n",
              "      <td>NaN</td>\n",
              "      <td>したら</td>\n",
              "      <td>しなかったら</td>\n",
              "      <td>10.0</td>\n",
              "      <td>為る</td>\n",
              "      <td>する</td>\n",
              "    </tr>\n",
              "    <tr>\n",
              "      <th>1</th>\n",
              "      <td>いる</td>\n",
              "      <td>いる</td>\n",
              "      <td>いらない</td>\n",
              "      <td>いった</td>\n",
              "      <td>いらなかった</td>\n",
              "      <td>いります</td>\n",
              "      <td>いりません</td>\n",
              "      <td>いりました</td>\n",
              "      <td>いりません でした</td>\n",
              "      <td>いれる</td>\n",
              "      <td>いれない</td>\n",
              "      <td>いって</td>\n",
              "      <td>いらないで</td>\n",
              "      <td>いれ</td>\n",
              "      <td>いる な</td>\n",
              "      <td>いろう</td>\n",
              "      <td>NaN</td>\n",
              "      <td>いれば</td>\n",
              "      <td>いらなければ</td>\n",
              "      <td>いらせる</td>\n",
              "      <td>いらせない</td>\n",
              "      <td>いっちゃう</td>\n",
              "      <td>NaN</td>\n",
              "      <td>いっちまう</td>\n",
              "      <td>NaN</td>\n",
              "      <td>いり</td>\n",
              "      <td>NaN</td>\n",
              "      <td>いりなさい</td>\n",
              "      <td>NaN</td>\n",
              "      <td>いられる</td>\n",
              "      <td>いられない</td>\n",
              "      <td>いったら</td>\n",
              "      <td>いらなかったら</td>\n",
              "      <td>13.0</td>\n",
              "      <td>居る</td>\n",
              "      <td>いる</td>\n",
              "    </tr>\n",
              "    <tr>\n",
              "      <th>2</th>\n",
              "      <td>ある</td>\n",
              "      <td>ある</td>\n",
              "      <td>ない</td>\n",
              "      <td>あった</td>\n",
              "      <td>なかった</td>\n",
              "      <td>あります</td>\n",
              "      <td>ありません</td>\n",
              "      <td>ありました</td>\n",
              "      <td>ありません でした</td>\n",
              "      <td>あれる</td>\n",
              "      <td>あれない</td>\n",
              "      <td>あって</td>\n",
              "      <td>ないで</td>\n",
              "      <td>あれ</td>\n",
              "      <td>ある な</td>\n",
              "      <td>あろう</td>\n",
              "      <td>NaN</td>\n",
              "      <td>あれば</td>\n",
              "      <td>なければ</td>\n",
              "      <td>あらせる</td>\n",
              "      <td>あらせない</td>\n",
              "      <td>あっちゃう</td>\n",
              "      <td>NaN</td>\n",
              "      <td>あっちまう</td>\n",
              "      <td>NaN</td>\n",
              "      <td>あり</td>\n",
              "      <td>NaN</td>\n",
              "      <td>ありなさい</td>\n",
              "      <td>NaN</td>\n",
              "      <td>あられる</td>\n",
              "      <td>あられない</td>\n",
              "      <td>あったら</td>\n",
              "      <td>なかったら</td>\n",
              "      <td>14.0</td>\n",
              "      <td>有る</td>\n",
              "      <td>ある</td>\n",
              "    </tr>\n",
              "    <tr>\n",
              "      <th>3</th>\n",
              "      <td>いう</td>\n",
              "      <td>いう</td>\n",
              "      <td>いわない</td>\n",
              "      <td>いった</td>\n",
              "      <td>いわなかった</td>\n",
              "      <td>いいます</td>\n",
              "      <td>いいません</td>\n",
              "      <td>いいました</td>\n",
              "      <td>いいません でした</td>\n",
              "      <td>いえる</td>\n",
              "      <td>いえない</td>\n",
              "      <td>いって</td>\n",
              "      <td>いわないで</td>\n",
              "      <td>いえ</td>\n",
              "      <td>いう な</td>\n",
              "      <td>いおう</td>\n",
              "      <td>NaN</td>\n",
              "      <td>いえば</td>\n",
              "      <td>いわなければ</td>\n",
              "      <td>いわせる</td>\n",
              "      <td>いわせない</td>\n",
              "      <td>いっちゃう</td>\n",
              "      <td>NaN</td>\n",
              "      <td>いっちまう</td>\n",
              "      <td>NaN</td>\n",
              "      <td>いい</td>\n",
              "      <td>NaN</td>\n",
              "      <td>いいなさい</td>\n",
              "      <td>NaN</td>\n",
              "      <td>いわれる</td>\n",
              "      <td>いわれない</td>\n",
              "      <td>いったら</td>\n",
              "      <td>いわなかったら</td>\n",
              "      <td>17.0</td>\n",
              "      <td>言う</td>\n",
              "      <td>いう</td>\n",
              "    </tr>\n",
              "    <tr>\n",
              "      <th>4</th>\n",
              "      <td>なる</td>\n",
              "      <td>なる</td>\n",
              "      <td>ならない</td>\n",
              "      <td>なった</td>\n",
              "      <td>ならなかった</td>\n",
              "      <td>なります</td>\n",
              "      <td>なりません</td>\n",
              "      <td>なりました</td>\n",
              "      <td>なりません でした</td>\n",
              "      <td>なれる</td>\n",
              "      <td>なれない</td>\n",
              "      <td>なって</td>\n",
              "      <td>ならないで</td>\n",
              "      <td>なれ</td>\n",
              "      <td>なる な</td>\n",
              "      <td>なろう</td>\n",
              "      <td>NaN</td>\n",
              "      <td>なれば</td>\n",
              "      <td>ならなければ</td>\n",
              "      <td>ならせる</td>\n",
              "      <td>ならせない</td>\n",
              "      <td>なっちゃう</td>\n",
              "      <td>NaN</td>\n",
              "      <td>なっちまう</td>\n",
              "      <td>NaN</td>\n",
              "      <td>なり</td>\n",
              "      <td>NaN</td>\n",
              "      <td>なりなさい</td>\n",
              "      <td>NaN</td>\n",
              "      <td>なられる</td>\n",
              "      <td>なられない</td>\n",
              "      <td>なったら</td>\n",
              "      <td>ならなかったら</td>\n",
              "      <td>23.0</td>\n",
              "      <td>成る</td>\n",
              "      <td>なる</td>\n",
              "    </tr>\n",
              "    <tr>\n",
              "      <th>...</th>\n",
              "      <td>...</td>\n",
              "      <td>...</td>\n",
              "      <td>...</td>\n",
              "      <td>...</td>\n",
              "      <td>...</td>\n",
              "      <td>...</td>\n",
              "      <td>...</td>\n",
              "      <td>...</td>\n",
              "      <td>...</td>\n",
              "      <td>...</td>\n",
              "      <td>...</td>\n",
              "      <td>...</td>\n",
              "      <td>...</td>\n",
              "      <td>...</td>\n",
              "      <td>...</td>\n",
              "      <td>...</td>\n",
              "      <td>...</td>\n",
              "      <td>...</td>\n",
              "      <td>...</td>\n",
              "      <td>...</td>\n",
              "      <td>...</td>\n",
              "      <td>...</td>\n",
              "      <td>...</td>\n",
              "      <td>...</td>\n",
              "      <td>...</td>\n",
              "      <td>...</td>\n",
              "      <td>...</td>\n",
              "      <td>...</td>\n",
              "      <td>...</td>\n",
              "      <td>...</td>\n",
              "      <td>...</td>\n",
              "      <td>...</td>\n",
              "      <td>...</td>\n",
              "      <td>...</td>\n",
              "      <td>...</td>\n",
              "      <td>...</td>\n",
              "    </tr>\n",
              "    <tr>\n",
              "      <th>456</th>\n",
              "      <td>差し出す</td>\n",
              "      <td>さしだす</td>\n",
              "      <td>さしださない</td>\n",
              "      <td>さしだした</td>\n",
              "      <td>さしださなかった</td>\n",
              "      <td>さしだします</td>\n",
              "      <td>さしだしません</td>\n",
              "      <td>さしだしました</td>\n",
              "      <td>さしだしません でした</td>\n",
              "      <td>さしだせる</td>\n",
              "      <td>さしだせない</td>\n",
              "      <td>さしだして</td>\n",
              "      <td>さしださないで</td>\n",
              "      <td>さしだせ</td>\n",
              "      <td>さしだす な</td>\n",
              "      <td>さしだそう</td>\n",
              "      <td>NaN</td>\n",
              "      <td>さしだせば</td>\n",
              "      <td>さしださなければ</td>\n",
              "      <td>さしださせる</td>\n",
              "      <td>さしださせない</td>\n",
              "      <td>さしだしちゃう</td>\n",
              "      <td>NaN</td>\n",
              "      <td>さしだしちまう</td>\n",
              "      <td>NaN</td>\n",
              "      <td>さしだし</td>\n",
              "      <td>NaN</td>\n",
              "      <td>さしだしなさい</td>\n",
              "      <td>NaN</td>\n",
              "      <td>さしだされる</td>\n",
              "      <td>さしだされない</td>\n",
              "      <td>さしだしたら</td>\n",
              "      <td>さしださなかったら</td>\n",
              "      <td>2863.0</td>\n",
              "      <td>放つ</td>\n",
              "      <td>はなつ</td>\n",
              "    </tr>\n",
              "    <tr>\n",
              "      <th>457</th>\n",
              "      <td>受け止める</td>\n",
              "      <td>うけとめる</td>\n",
              "      <td>うけとめない</td>\n",
              "      <td>うけとめた</td>\n",
              "      <td>うけとめなかった</td>\n",
              "      <td>うけとめます</td>\n",
              "      <td>うけとめません</td>\n",
              "      <td>うけとめました</td>\n",
              "      <td>うけとめません でした</td>\n",
              "      <td>うけとめられる</td>\n",
              "      <td>うけとめられない</td>\n",
              "      <td>うけとめて</td>\n",
              "      <td>うけとめないで</td>\n",
              "      <td>うけとめよ</td>\n",
              "      <td>うけとめる な</td>\n",
              "      <td>うけとめよう</td>\n",
              "      <td>NaN</td>\n",
              "      <td>うけとめれば</td>\n",
              "      <td>うけとめなければ</td>\n",
              "      <td>うけとめさせる</td>\n",
              "      <td>うけとめさせない</td>\n",
              "      <td>うけとめちゃう</td>\n",
              "      <td>NaN</td>\n",
              "      <td>うけとめちまう</td>\n",
              "      <td>NaN</td>\n",
              "      <td>うけとめ</td>\n",
              "      <td>NaN</td>\n",
              "      <td>うけとめなさい</td>\n",
              "      <td>NaN</td>\n",
              "      <td>うけとめられる</td>\n",
              "      <td>うけとめられない</td>\n",
              "      <td>うけとめたら</td>\n",
              "      <td>うけとめなかったら</td>\n",
              "      <td>2873.0</td>\n",
              "      <td>勤める</td>\n",
              "      <td>つとめる</td>\n",
              "    </tr>\n",
              "    <tr>\n",
              "      <th>458</th>\n",
              "      <td>下す</td>\n",
              "      <td>おろす</td>\n",
              "      <td>おろさない</td>\n",
              "      <td>おろした</td>\n",
              "      <td>おろさなかった</td>\n",
              "      <td>おろします</td>\n",
              "      <td>おろしません</td>\n",
              "      <td>おろしました</td>\n",
              "      <td>おろしません でした</td>\n",
              "      <td>おろせる</td>\n",
              "      <td>おろせない</td>\n",
              "      <td>おろして</td>\n",
              "      <td>おろさないで</td>\n",
              "      <td>おろせ</td>\n",
              "      <td>おろす な</td>\n",
              "      <td>おろそう</td>\n",
              "      <td>NaN</td>\n",
              "      <td>おろせば</td>\n",
              "      <td>おろさなければ</td>\n",
              "      <td>おろさせる</td>\n",
              "      <td>おろさせない</td>\n",
              "      <td>おろしちゃう</td>\n",
              "      <td>NaN</td>\n",
              "      <td>おろしちまう</td>\n",
              "      <td>NaN</td>\n",
              "      <td>おろし</td>\n",
              "      <td>NaN</td>\n",
              "      <td>おろしなさい</td>\n",
              "      <td>NaN</td>\n",
              "      <td>おろされる</td>\n",
              "      <td>おろされない</td>\n",
              "      <td>おろしたら</td>\n",
              "      <td>おろさなかったら</td>\n",
              "      <td>2875.0</td>\n",
              "      <td>解く</td>\n",
              "      <td>とく</td>\n",
              "    </tr>\n",
              "    <tr>\n",
              "      <th>459</th>\n",
              "      <td>試みる</td>\n",
              "      <td>こころみる</td>\n",
              "      <td>こころみない</td>\n",
              "      <td>こころみた</td>\n",
              "      <td>こころみなかった</td>\n",
              "      <td>こころみます</td>\n",
              "      <td>こころみません</td>\n",
              "      <td>こころみました</td>\n",
              "      <td>こころみません でした</td>\n",
              "      <td>こころみられる</td>\n",
              "      <td>こころみられない</td>\n",
              "      <td>こころみて</td>\n",
              "      <td>こころみないで</td>\n",
              "      <td>こころみよ</td>\n",
              "      <td>こころみる な</td>\n",
              "      <td>こころみよう</td>\n",
              "      <td>NaN</td>\n",
              "      <td>こころみれば</td>\n",
              "      <td>こころみなければ</td>\n",
              "      <td>こころみさせる</td>\n",
              "      <td>こころみさせない</td>\n",
              "      <td>こころみちゃう</td>\n",
              "      <td>NaN</td>\n",
              "      <td>こころみちまう</td>\n",
              "      <td>NaN</td>\n",
              "      <td>こころみ</td>\n",
              "      <td>NaN</td>\n",
              "      <td>こころみなさい</td>\n",
              "      <td>NaN</td>\n",
              "      <td>こころみられる</td>\n",
              "      <td>こころみられない</td>\n",
              "      <td>こころみたら</td>\n",
              "      <td>こころみなかったら</td>\n",
              "      <td>2877.0</td>\n",
              "      <td>浴びる</td>\n",
              "      <td>あびる</td>\n",
              "    </tr>\n",
              "    <tr>\n",
              "      <th>460</th>\n",
              "      <td>載せる</td>\n",
              "      <td>のせる</td>\n",
              "      <td>のせない</td>\n",
              "      <td>のせた</td>\n",
              "      <td>のせなかった</td>\n",
              "      <td>のせます</td>\n",
              "      <td>のせません</td>\n",
              "      <td>のせました</td>\n",
              "      <td>のせません でした</td>\n",
              "      <td>のせられる</td>\n",
              "      <td>のせられない</td>\n",
              "      <td>のせて</td>\n",
              "      <td>のせないで</td>\n",
              "      <td>のせよ</td>\n",
              "      <td>のせる な</td>\n",
              "      <td>のせよう</td>\n",
              "      <td>NaN</td>\n",
              "      <td>のせれば</td>\n",
              "      <td>のせなければ</td>\n",
              "      <td>のせさせる</td>\n",
              "      <td>のせさせない</td>\n",
              "      <td>のせちゃう</td>\n",
              "      <td>NaN</td>\n",
              "      <td>のせちまう</td>\n",
              "      <td>NaN</td>\n",
              "      <td>のせ</td>\n",
              "      <td>NaN</td>\n",
              "      <td>のせなさい</td>\n",
              "      <td>NaN</td>\n",
              "      <td>のせられる</td>\n",
              "      <td>のせられない</td>\n",
              "      <td>のせたら</td>\n",
              "      <td>のせなかったら</td>\n",
              "      <td>2880.0</td>\n",
              "      <td>成り立つ</td>\n",
              "      <td>なりたつ</td>\n",
              "    </tr>\n",
              "  </tbody>\n",
              "</table>\n",
              "<p>461 rows × 36 columns</p>\n",
              "</div>"
            ],
            "text/plain": [
              "     Kanji  Plain  ... Lexeme Standard Reading (in Hiragana)\n",
              "0       する     する  ...     為る                             する\n",
              "1       いる     いる  ...     居る                             いる\n",
              "2       ある     ある  ...     有る                             ある\n",
              "3       いう     いう  ...     言う                             いう\n",
              "4       なる     なる  ...     成る                             なる\n",
              "..     ...    ...  ...    ...                            ...\n",
              "456   差し出す   さしだす  ...     放つ                            はなつ\n",
              "457  受け止める  うけとめる  ...    勤める                           つとめる\n",
              "458     下す    おろす  ...     解く                             とく\n",
              "459    試みる  こころみる  ...    浴びる                            あびる\n",
              "460    載せる    のせる  ...   成り立つ                           なりたつ\n",
              "\n",
              "[461 rows x 36 columns]"
            ]
          },
          "metadata": {
            "tags": []
          },
          "execution_count": 108
        }
      ]
    },
    {
      "cell_type": "code",
      "metadata": {
        "id": "wyRzyN8PPkwG"
      },
      "source": [
        ""
      ],
      "execution_count": 56,
      "outputs": []
    },
    {
      "cell_type": "code",
      "metadata": {
        "colab": {
          "base_uri": "https://localhost:8080/",
          "height": 35
        },
        "id": "k6ZBgemDP8I-",
        "outputId": "8b832524-50ec-493f-8998-306bc1a33b6e"
      },
      "source": [
        "df.loc[curr][\"Kanji\"]"
      ],
      "execution_count": 57,
      "outputs": [
        {
          "output_type": "execute_result",
          "data": {
            "application/vnd.google.colaboratory.intrinsic+json": {
              "type": "string"
            },
            "text/plain": [
              "'載せる'"
            ]
          },
          "metadata": {
            "tags": []
          },
          "execution_count": 57
        }
      ]
    },
    {
      "cell_type": "code",
      "metadata": {
        "colab": {
          "base_uri": "https://localhost:8080/",
          "height": 35
        },
        "id": "Zo1zXcUPQrP1",
        "outputId": "d10e9c0b-6aa4-42a6-dc09-c66b9e9f37f4"
      },
      "source": [
        "temp_df.loc[i][\"Kanji\"]"
      ],
      "execution_count": 58,
      "outputs": [
        {
          "output_type": "execute_result",
          "data": {
            "application/vnd.google.colaboratory.intrinsic+json": {
              "type": "string"
            },
            "text/plain": [
              "'載せる'"
            ]
          },
          "metadata": {
            "tags": []
          },
          "execution_count": 58
        }
      ]
    },
    {
      "cell_type": "code",
      "metadata": {
        "id": "BACfKbCjQwQT"
      },
      "source": [
        "temp3.to_csv(\"actual_verbs_final.csv\", index=False)"
      ],
      "execution_count": 109,
      "outputs": []
    },
    {
      "cell_type": "code",
      "metadata": {
        "id": "47qT3X-oZlzh"
      },
      "source": [
        ""
      ],
      "execution_count": null,
      "outputs": []
    }
  ]
}